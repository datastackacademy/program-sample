{
 "cells": [
  {
   "cell_type": "markdown",
   "metadata": {},
   "source": [
    "## Working with CSVs\n",
    "\n",
    "### CSV Overview\n",
    "\n",
    "CSVs are the simplest and the most commonly used data format. CSV stands for _Comma Separated Values_. CSVs contain rows of data where each line is _terminated_ by a newline character (`\\n`) and columns within a row are _delimited_ (or _separated_) by commas (`,`). You might be familiar with this format from working with Excel files. CSVs are commonly used by Excel to import/export data.\n",
    "\n",
    "You can see that commas and newline characters are special characters; therefore if a field contains these characters, it needs to be wrapped by another special character called the _Enclosing Character_. This is typically set by double quotes (`\"`). For example to following line represents 3 fields: _name, home\\_town, genre_ where the address field is wrapped in quotes to include a comma:\n",
    "\n",
    "```csv\n",
    "name,home_town,genre\n",
    "Biggie Smalls,\"Brooklyn, NY\",hip hop\n",
    "\"Queen Latifah\",\"Newark, NJ\",\"hip hop\"\n",
    "\"Salt-N-Pepa\",\"Queens, NY\",\"hip hop\"\n",
    "Tupac Shakur,\"Harlem, NY\".\"hip hop\"\n",
    "```\n",
    "\n",
    "Optionally, to be safe, all string or text fields could be wrapped in quotes.\n",
    "\n",
    "There's another special character called the _Escape Character_; commonly set as backslash (`\\`). This character is used to escape the _Enclose_ character; allowing a text field to include a quote. Yes, we almost get into an endless cycle! If we need a single backslash in the text, we should enter double backslashes: '\\\\'. Take a look at the example below. This example contains a lyric field that includes both a quote and backslash:\n",
    "\n",
    "```csv\n",
    "name,lyric\n",
    "Biggie Smalls, \"The song Juicy includes: \\\"Salt-n-Pepa \\\\ Heavy D up in the limousine\\\" -the end\"\n",
    "```\n",
    "\n",
    "Luckily, you don't have to worry about these as much. Python automatically takes care of escaping or enclosing fields. Just know that there are these special characters which you can change:\n",
    "\n",
    "| Name | Default Character |\n",
    "| --- | --- |\n",
    "| Delimiter | `,` (comma) |\n",
    "| Line Terminator | `\\n` (enter or newline) |\n",
    "| Enclosing or Quoting | `\"` (double quote) |\n",
    "| Escape | `\\` (backslash) |\n",
    "\n",
    "It's important to mention that there's another similar file type called TSV or _Tab Separated Values_ where fields are terminated by tabs (`\\t`).\n"
   ]
  },
  {
   "cell_type": "markdown",
   "metadata": {},
   "source": [
    "### Basic CSV I/O\n",
    "\n",
    "In this lesson we'll follow some simple examples to read/write CSV rows from a file. \n",
    "\n",
    "Python provides a built-in `csv` module. This module comes equipped with a `DictWriter` and a `DictReader` class to write/read CSV files. These classes automatically take care of CSV formatting including adding delimiters, parsing fields, and escaping special characters. Life is easy with Python 😉\n",
    "\n",
    "Let's see these classes in action. The following code writes a series of rows from a list into CSV format:"
   ]
  },
  {
   "cell_type": "code",
   "execution_count": null,
   "metadata": {},
   "outputs": [],
   "source": [
    "from csv import DictWriter\n",
    "\n",
    "\n",
    "# csv header fields\n",
    "header = [\"name\", \"home_town\"]\n",
    "# rows to write, each row includes a dict of values\n",
    "rows = [\n",
    "    {\"name\": \"Biggie Smalls\", \"home_town\": \"Brooklyn, NY\"},\n",
    "    {\"name\": \"Queen Latifah\", \"home_town\": \"Newark, NJ\"},\n",
    "    {\"name\": \"Salt-N-Pepa\", \"home_town\": \"Queens, NY\"},\n",
    "    {\"name\": \"Tupac Shakur\", \"home_town\": \"Harlem, NY\"},\n",
    "]\n",
    "\n",
    "# open a file for writing\n",
    "with open(\"./data/hiphop_legends.csv\", \"w\") as csv_file:\n",
    "    # create a csv writer with header fields\n",
    "    csv_writer = DictWriter(csv_file, fieldnames=header, dialect=\"unix\")\n",
    "    # write our header row\n",
    "    csv_writer.writeheader()\n",
    "    # iterate through rows and write to file\n",
    "    for row in rows:\n",
    "        csv_writer.writerow(row)\n",
    "\n",
    "print(\"done!\")"
   ]
  },
  {
   "cell_type": "markdown",
   "metadata": {},
   "source": [
    "Let's take a closer look here:\n",
    "- We open a file for writing as before\n",
    "- We use a spacial `csv` module class called `DictWriter`. This class writes dicts into CSV format. The dict fields map one-to-one to the CSV fields written.\n",
    "- `DictWriter` take a list of `fieldnames`. This is the list of dict keys to write into the file; and is also used for the CSV header column names.\n",
    "- The `dialect=unix` indicates Unix formatting which includes a single newline (`\\n`) character as the line terminator. You also use the `excel` dialect to include Windows newline terminators. Yes, Unix and Windows have different line terminators. This is typically very annoying!\n",
    "- The `writerow()` method write a dict to our file in CSV format\n",
    "\n",
    "<br/>\n",
    "\n",
    "Now, let's read our rows back using a similar `csv` module class called `DictReader`:"
   ]
  },
  {
   "cell_type": "code",
   "execution_count": null,
   "metadata": {},
   "outputs": [],
   "source": [
    "from csv import DictReader\n",
    "\n",
    "\n",
    "# open our file for reading\n",
    "with open(\"./data/hiphop_legends.csv\", \"r\") as csv_file:\n",
    "    # create a csv reader and pass any special args\n",
    "    csv_reader = DictReader(csv_file, dialect=\"unix\")\n",
    "    for row in csv_reader:\n",
    "        # get the current line number\n",
    "        line_num = csv_reader.line_num\n",
    "        # access fields as a dict\n",
    "        name = row[\"name\"]\n",
    "        home_town = row[\"home_town\"]\n",
    "        print(f\"lineno: {csv_reader.line_num} - name: {name} home_town: {home_town}\")"
   ]
  },
  {
   "cell_type": "markdown",
   "metadata": {},
   "source": [
    "It's important to note that:\n",
    "- `DictReader` automatically detects if our file includes a header row. This row is used as field names and sets the keys for the parsed dict rows. Pay attention that this row is skipped as a data row. Therefore, printing the line numbers starts from the second line of the CSV file.\n",
    "- You can use the `DictReader` object itself as an iterator. Iterating over this object returns a dict object corresponding to each row of the CSV file.\n",
    "- The `DictReader` takes a series of optional constructor parameters such as `dialect`. Read the docs! There are other parameters to change the delimiter, quoting character, or other CSV special characters.\n",
    "- The `DictReader` returns an `OrderedDict` object. This is a special dict object which retains the keys in the same order in which they were entered.\n"
   ]
  },
  {
   "cell_type": "markdown",
   "metadata": {},
   "source": [
    "### Reading/Writing Lists\n",
    "\n",
    "The built-in `csv` module has two other classes to work with CSV files which that do NOT contain a header row. These classes read/write the fields into a `list` object instead of a `dict`. These classes are simply called `csv.writer` and `csv.reader`. You can read the docs to familiarize yourself with them. \n",
    "\n",
    "The example below shows how to work with there classes:"
   ]
  },
  {
   "cell_type": "code",
   "execution_count": null,
   "metadata": {},
   "outputs": [],
   "source": [
    "import csv\n",
    "\n",
    "# our rows are defined as list of values (instead of dicts)\n",
    "rows = [\n",
    "    ['Biggie Smalls', 'Brooklyn, NY'], \n",
    "    ['Queen Latifah', 'Newark, NJ'], \n",
    "    ['Salt-N-Pepa', 'Queens, NY'], \n",
    "    ['Tupac Shakur', 'Harlem, NY']\n",
    "]\n",
    "\n",
    "# write data to csv\n",
    "with open(\"./data/hiphop_legends.tsv\", \"w\") as csv_file:\n",
    "    # we change our delimiter to tabs and only use enclosing characters when necessary\n",
    "    csv_writer = csv.writer(csv_file, dialect=\"unix\", delimiter=\"\\t\", quoting=csv.QUOTE_MINIMAL)\n",
    "    csv_writer.writerows(rows)\n",
    "\n",
    "print(\"done writing!\")\n",
    "\n",
    "# open and the file back for reading\n",
    "with open(\"./data/hiphop_legends.tsv\", \"r\") as csv_file:\n",
    "    csv_reader = csv.reader(csv_file, dialect=\"unix\", delimiter=\"\\t\", quoting=csv.QUOTE_MINIMAL)\n",
    "    for row in csv_reader:\n",
    "        # we read back lists (instead of dicts)\n",
    "        print(row)\n"
   ]
  },
  {
   "cell_type": "markdown",
   "metadata": {},
   "source": [
    "A few things to notice here:\n",
    "- Our rows are now a list of lists\n",
    "- We also pass a few more parameters to change the delimiter to tabs (making this a TSV file) and set the quoting to only when necessary (minimal)"
   ]
  },
  {
   "cell_type": "markdown",
   "metadata": {},
   "source": [
    "#### Exercise\n",
    "\n",
    "- Read the file `./data/deb-airports.csv` using the `csv.DictReader`\n",
    "- Print each the fields in each row\n",
    "- Store each row into a list\n",
    "- Open another file for writing using the `csv.DictWriter`\n",
    "- Store the rows back into CSV format\n",
    "- Bonus:\n",
    "  - Create another list with only Oregon (OR), Washington (WA), and California (CA) airports\n",
    "  - Write these into a separate CSV file"
   ]
  },
  {
   "cell_type": "code",
   "execution_count": null,
   "metadata": {},
   "outputs": [],
   "source": [
    "# import both DictReader and DictWriter\n",
    "\n",
    "# declare a list to store your rows\n",
    "\n",
    "# open the file for reading using DictReader\n",
    "# loop throw all the rows and append them to your list\n",
    "\n",
    "\n",
    "# open the a file for writing using DictWriter\n",
    "# loops through your list and write them into csv\n"
   ]
  },
  {
   "cell_type": "markdown",
   "metadata": {},
   "source": [
    "### Generating Random Person Profile\n",
    "\n",
    "Before we get into reading/writing CSV files, let's use the Faker module to generate a series of random person profiles. We use various methods for the `Faker` class to generate random people. We save each person in a corresponding dict.\n",
    "\n",
    "Let's see this in action:"
   ]
  },
  {
   "cell_type": "code",
   "execution_count": null,
   "metadata": {},
   "outputs": [],
   "source": [
    "from faker import Faker\n",
    "\n",
    "fake = Faker()\n",
    "\n",
    "# a list to contain our profiles\n",
    "profiles = []\n",
    "\n",
    "for i in range(30):\n",
    "    person = {\n",
    "        \"first_name\": fake.first_name(),\n",
    "        \"last_name\": fake.last_name(),\n",
    "        \"street_address\": fake.street_address(),\n",
    "        \"city\": fake.city(),\n",
    "        \"state\": fake.state_abbr(),\n",
    "        \"zip\": fake.zipcode_in_state(),\n",
    "        \"email\": fake.free_email(),\n",
    "        \"birth_date\": fake.date_of_birth(),\n",
    "    }\n",
    "    print(person)\n",
    "    profiles.append(person)"
   ]
  },
  {
   "cell_type": "markdown",
   "metadata": {},
   "source": [
    "#### Exercise (Writer)\n",
    "\n",
    "1. Write the profiles into a CSV file using the `DictWriter` class\n",
    "2. Be sure to include a header row"
   ]
  },
  {
   "cell_type": "code",
   "execution_count": null,
   "metadata": {},
   "outputs": [],
   "source": [
    "\n",
    "# get our field names from the data\n",
    "field_names = list(profiles[0].keys())\n",
    "\n",
    "# write profiles into a CSV file\n"
   ]
  },
  {
   "cell_type": "markdown",
   "metadata": {},
   "source": [
    "#### Exercise (Reader)\n",
    "\n",
    "1. Read the profiles back from using the `DictReader`\n",
    "2. Print a few of the fields\n",
    "3. **Bonus**: When reading each row, add some post processing to parse the _birth\\_date_ column as datetime objects"
   ]
  },
  {
   "cell_type": "markdown",
   "metadata": {},
   "source": [
    "#### Exercise - Bonus Points\n",
    "\n",
    "1. Write and read the profiles again but this time with the `csv.reader` and `csv.writer` classes instead.\n",
    "2. Remember, these classes work with rows as a `list` of fields instead of a `dict`. You must use the profile `dict.values`.\n",
    "3. Set the delimiter character to tabs (`'\\t'`); making this a TSV file. Read the docs to find the correct parameter to set."
   ]
  },
  {
   "cell_type": "code",
   "execution_count": null,
   "metadata": {},
   "outputs": [],
   "source": [
    "# write the profiles into a TSV file\n",
    "\n",
    "# read teh profiles from a TSV file"
   ]
  }
 ],
 "metadata": {
  "interpreter": {
   "hash": "3d13d62c3386cbb294dae0923763e6371e53734bcba394bd0d1bf5d604d1c6f4"
  },
  "kernelspec": {
   "display_name": "Python 3.7.13 ('venv': venv)",
   "language": "python",
   "name": "python3"
  },
  "language_info": {
   "codemirror_mode": {
    "name": "ipython",
    "version": 3
   },
   "file_extension": ".py",
   "mimetype": "text/x-python",
   "name": "python",
   "nbconvert_exporter": "python",
   "pygments_lexer": "ipython3",
   "version": "3.7.13"
  },
  "orig_nbformat": 4
 },
 "nbformat": 4,
 "nbformat_minor": 2
}
