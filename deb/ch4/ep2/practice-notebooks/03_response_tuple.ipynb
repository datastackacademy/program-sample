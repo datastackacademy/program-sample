{
 "cells": [
  {
   "cell_type": "markdown",
   "metadata": {},
   "source": [
    "## Practice Lesson: Response Object\n",
    "\n",
    "Flask is smart enough to interpret your route function `return` statement as proper HTTP response. Flask simply interprets the `return` value as text or JSON (seen later). But a proper HTTP response also includes an HTTP stats code and headers. Flask allows you to also set these values if your `return` statement returns a tuple. The tuple should include exactly three elements: _data, status\\_code, headers_.\n",
    "\n",
    "For example: \n",
    "\n",
    "```python\n",
    "data = \"hello\"\n",
    "headers = {\"server-type\": \"python-flask\"}\n",
    "return data, 200, headers\n",
    "```\n",
    "\n",
    "Pay attention that our `return` statement returns a tuple of three elements. Here:\n",
    "- the HTTP body (or payload) is set simply to the text value of the `data` variable which is \"hello\"\n",
    "- the HTTP status code is set to `200` (the default OK status code)\n",
    "- the HTTP headers are always set as a dict. The dict keys/values correspond to the HTTP headers. In this example, we set the content of custom header called `server-type`\n",
    "\n",
    "\n",
    "<br/>\n",
    "\n",
    "Another important thing to note is the type of `data` parameter. The two commonly used types are `str` or `dict`. Flask sends back string data as simple text payload. **But**, it's important to know that flask will send back dictionary data as JSON payload. This is **very** helpful. \n",
    "\n",
    "Let's see this in action:\n"
   ]
  },
  {
   "cell_type": "code",
   "execution_count": null,
   "metadata": {},
   "outputs": [],
   "source": [
    "from datetime import datetime as dt\n",
    "from flask import Flask\n",
    "\n",
    "\n",
    "# Create our Flask app\n",
    "app = Flask(__name__)\n",
    "\n",
    "\n",
    "@app.route(\"/\")\n",
    "def index():\n",
    "    # create a json respond\n",
    "    data = {\n",
    "        \"msg\": \"hi\",\n",
    "        \"current-time\": dt.now()\n",
    "        }\n",
    "    # set http headers\n",
    "    headers = {\n",
    "        \"server-type\": \"python-flask\",\n",
    "        \"content-type\": \"application/json\"\n",
    "        }\n",
    "    # return everything\n",
    "    return data, 200, headers\n",
    "\n",
    "\n",
    "# run the app\n",
    "app.run('0.0.0.0', 5050)"
   ]
  },
  {
   "cell_type": "markdown",
   "metadata": {},
   "source": [
    "A few things to note:\n",
    "- `data` payload is a `dict` which flask automatically interprets as JSON in our HTTP response\n",
    "- You can simply send back anything in the response dict\n",
    "- We set multiple HTTP headers here\n",
    "\n",
    "\n",
    "<br/>\n",
    "\n",
    "To see the full HTTP response back using curl set the `-v` arg:"
   ]
  },
  {
   "cell_type": "code",
   "execution_count": null,
   "metadata": {
    "vscode": {
     "languageId": "shellscript"
    }
   },
   "outputs": [],
   "source": [
    "\n",
    "# run this in a bash terminal\n",
    "curl -vX GET \"http://localhost:5050\""
   ]
  },
  {
   "cell_type": "markdown",
   "metadata": {},
   "source": [
    "### NOTE\n",
    "\n",
    "Remember to stop the notebook code cell above to stop the flask app from running. Otherwise your application will continues running and any subsequent applications would fail to bind to the same host/port."
   ]
  },
  {
   "cell_type": "markdown",
   "metadata": {},
   "source": [
    "### Exercise\n",
    "\n",
    "Using response tuple return method, create a route called `get_datetime` that:\n",
    "- Returns the current data/time in **JSON** format\n",
    "- Sets the HTTP status code to _202_\n",
    "- Sets HTTP headers for _\"content-type\"_ and _\"timezone\"_ (set it to your local timezone NOT programmatically)\n"
   ]
  },
  {
   "cell_type": "code",
   "execution_count": null,
   "metadata": {},
   "outputs": [],
   "source": [
    "from datetime import datetime as dt\n",
    "from flask import Flask\n",
    "\n",
    "\n",
    "# Create our Flask app\n",
    "app = Flask(__name__)\n",
    "\n",
    "\n",
    "# create the first route\n",
    "\n",
    "\n",
    "# run the app\n",
    "app.run('0.0.0.0', 5050)"
   ]
  }
 ],
 "metadata": {
  "interpreter": {
   "hash": "4c40fc25bb696b01dcd445d466e6cb329cef8d466f3d0576415990b358d54509"
  },
  "kernelspec": {
   "display_name": "Python 3.7.13 ('venv': venv)",
   "language": "python",
   "name": "python3"
  },
  "language_info": {
   "codemirror_mode": {
    "name": "ipython",
    "version": 3
   },
   "file_extension": ".py",
   "mimetype": "text/x-python",
   "name": "python",
   "nbconvert_exporter": "python",
   "pygments_lexer": "ipython3",
   "version": "3.7.13"
  },
  "orig_nbformat": 4
 },
 "nbformat": 4,
 "nbformat_minor": 2
}
