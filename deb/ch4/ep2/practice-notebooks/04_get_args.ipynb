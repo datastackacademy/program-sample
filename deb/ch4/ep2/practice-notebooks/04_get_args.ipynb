{
 "cells": [
  {
   "cell_type": "markdown",
   "metadata": {},
   "source": [
    "## Practice Lesson: GET args\n",
    "\n",
    "A Flask route can accept as many GET arguments (args or params) as you like! The example below shows a route with three args: _city, state, and zip_. Additionally, you can define a default value for each arg if the user or client does not provide one.\n",
    "\n",
    "Let's see this in action:\n"
   ]
  },
  {
   "cell_type": "code",
   "execution_count": null,
   "metadata": {},
   "outputs": [],
   "source": [
    "from flask import Flask, request\n",
    "\n",
    "\n",
    "# Create our Flask app\n",
    "app = Flask(__name__)\n",
    "\n",
    "\n",
    "@app.route(\"/\")\n",
    "def index():\n",
    "    \"\"\"\n",
    "    This route accepts three GET args:\n",
    "    - city\n",
    "    - state\n",
    "    - zip\n",
    "\n",
    "    And it gives them default values if they are not provided by the client\n",
    "    \"\"\"\n",
    "    # get the GET args with default values if they are not provided\n",
    "    city = request.args.get(\"city\", default=\"Portland\")\n",
    "    state = request.args.get(\"state\", default=\"OR\")\n",
    "    zip = request.args.get(\"zip\", default=\"97201\")\n",
    "    # data to send back to the client\n",
    "    ret_data = f\"You are looking for: {city}, {state} {zip}\"\n",
    "    # send the response with correct http content-type and response code\n",
    "    return ret_data, 200, {\"content-type\": \"text/plain\"}\n",
    "\n",
    "\n",
    "# run the app\n",
    "app.run('0.0.0.0', 5050)"
   ]
  },
  {
   "cell_type": "markdown",
   "metadata": {},
   "source": [
    "A few things to note:\n",
    "- We import the `request` class from Flask\n",
    "- The `reguest.args.get()` method gets the value of any GET arg sent by the client\n",
    "- Since GET args are optional, this method can also set a default value for each arg\n",
    "- We return a response tuple in the the _data, status, headers_ format.\n",
    "\n",
    "<br/>\n",
    "\n",
    "You can call this route via Postman or curl... Pay attention how we pass the _city and state_ args but NOT the _zip_:\n",
    "\n",
    "![Postman Example](../imgs/postman-multi-args-01.png)\n",
    "\n",
    "via curl:"
   ]
  },
  {
   "cell_type": "code",
   "execution_count": null,
   "metadata": {
    "vscode": {
     "languageId": "shellscript"
    }
   },
   "outputs": [],
   "source": [
    "\n",
    "# run this in a bash terminal\n",
    "curl -G \"http://localhost:5050\" --data-urlencode \"city=San Fran\" --data-urlencode \"state=CA\""
   ]
  },
  {
   "cell_type": "markdown",
   "metadata": {},
   "source": [
    "### NOTE\n",
    "\n",
    "Remember to stop the notebook code cell above to stop the flask app from running. Otherwise your application will continues running and any subsequent applications would fail to bind to the same host/port."
   ]
  },
  {
   "cell_type": "markdown",
   "metadata": {},
   "source": [
    "### Exercise\n",
    "\n",
    "- Create a route that accepts two args: _lat_ and _lon_.\n",
    "- Assign a default value to them with your local city geo location. \n",
    "- Return these argument as a JSON"
   ]
  },
  {
   "cell_type": "code",
   "execution_count": null,
   "metadata": {},
   "outputs": [],
   "source": [
    "from flask import Flask, request\n",
    "\n",
    "\n",
    "# Create our Flask app\n",
    "app = Flask(__name__)\n",
    "\n",
    "\n",
    "@app.route(\"/\")\n",
    "def index():\n",
    "    # write the code here\n",
    "    pass\n",
    "\n",
    "\n",
    "# run the app\n",
    "app.run('0.0.0.0', 5050)"
   ]
  }
 ],
 "metadata": {
  "interpreter": {
   "hash": "4c40fc25bb696b01dcd445d466e6cb329cef8d466f3d0576415990b358d54509"
  },
  "kernelspec": {
   "display_name": "Python 3.7.13 ('venv': venv)",
   "language": "python",
   "name": "python3"
  },
  "language_info": {
   "codemirror_mode": {
    "name": "ipython",
    "version": 3
   },
   "file_extension": ".py",
   "mimetype": "text/x-python",
   "name": "python",
   "nbconvert_exporter": "python",
   "pygments_lexer": "ipython3",
   "version": "3.7.13"
  },
  "orig_nbformat": 4
 },
 "nbformat": 4,
 "nbformat_minor": 2
}
