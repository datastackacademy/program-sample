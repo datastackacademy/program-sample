{
 "cells": [
  {
   "cell_type": "markdown",
   "metadata": {},
   "source": [
    "## Practice Lesson: Multiple Routes\n",
    "\n",
    "You can easily define multiple routes in a flask application. Remember, the route is the URL endpoint that your function will respond to. The URL endpoint is everything after the slash the follows the server name and port. For example:\n",
    "\n",
    "- `app.route(\"/get_time\")` maps to the URL endpoint: `http://localhost:5050/get_time`\n",
    "- `app.route(\"/get_date\")` maps to the URL endpoint: `http://localhost:5050/get_date`\n",
    "- `app.route(\"/\")` maps to the root URL endpoint: `http://localhost:5050/`\n",
    "  \n",
    "\n",
    "Let's see this in action, the following code snippet:\n",
    "1. Creates a flask app\n",
    "2. Adds three routes on get_time, get_date, and the root\n",
    "\n"
   ]
  },
  {
   "cell_type": "code",
   "execution_count": null,
   "metadata": {},
   "outputs": [],
   "source": [
    "from datetime import datetime as dt\n",
    "from flask import Flask\n",
    "\n",
    "\n",
    "# Create our Flask app\n",
    "app = Flask(__name__)\n",
    "\n",
    "\n",
    "@app.route(\"/\")\n",
    "def index():\n",
    "    \"\"\"root (or index) endpoint. says hi!\"\"\"\n",
    "    return \"hi\"\n",
    "\n",
    "\n",
    "@app.route(\"/get_time\")\n",
    "def get_time():\n",
    "    \"\"\"/get_time endpoint: return the current time\"\"\"\n",
    "    curr_time = dt.now().time()\n",
    "    return str(curr_time)\n",
    "\n",
    "\n",
    "@app.route(\"/get_date\")\n",
    "def get_date():\n",
    "    \"\"\"/get_time endpoint: return the current date\"\"\"\n",
    "    curr_date = dt.now().date()\n",
    "    return str(curr_date)\n",
    "\n",
    "\n",
    "# run the app\n",
    "app.run('0.0.0.0', 5050)"
   ]
  },
  {
   "cell_type": "markdown",
   "metadata": {},
   "source": [
    "A few things to note:\n",
    "- The name of the function that `@app.route(...)` (which define the route) could be anything; but it's good practice to name it the same as the route endpoint. ie: `get_time()` function corresponds to `/get_time` route\n",
    "- The `app.run(...)` method takes two argument: the host and port on the server that it will bind to. The `0.0.0.0` server IP address is convention to bind to the default IP address of the machine. In local mode, this is `localhost` or IP address `127.0.0.1`. When your application runs on a server, this will bind to the default IP address on the server.\n",
    "\n",
    "<br/>\n",
    "\n",
    "You can try calling your API via Postman, a browser, or curl:\n",
    "\n",
    "- [http://localhost:5050/](http://localhost:5050/)\n",
    "- [http://localhost:5050/get_time](http://localhost:5050/get_time)\n",
    "- [http://localhost:5050/get_date](http://localhost:5050/get_date)\n",
    "\n",
    "via curl:"
   ]
  },
  {
   "cell_type": "code",
   "execution_count": null,
   "metadata": {
    "vscode": {
     "languageId": "shellscript"
    }
   },
   "outputs": [],
   "source": [
    "\n",
    "# run this in a bash terminal\n",
    "curl -X GET \"http://localhost:5050\"\n",
    "curl -X GET \"http://localhost:5050/get_time\"\n",
    "curl -X GET \"http://localhost:5050get_date\"\n"
   ]
  },
  {
   "cell_type": "markdown",
   "metadata": {},
   "source": [
    "### NOTE\n",
    "\n",
    "Remember to stop the notebook code cell above to stop the flask app from running. Otherwise your application will continues running and any subsequent applications would fail to bind to the same host/port."
   ]
  },
  {
   "cell_type": "markdown",
   "metadata": {},
   "source": [
    "### Exercise\n",
    "\n",
    "Using the built-in `random` module create a flask app with two routes:\n",
    "- `/get_rand_number`: use the `random.randint()` method to return a random integer between 1 and 100.\n",
    "- `/get_rand_name`: use `random.choice()` method to return a random name from a list of random names. Make your own list of random names.\n",
    "\n",
    "Hint:\n",
    "\n",
    "```python\n",
    "import random\n",
    "\n",
    "names = [\"Jess\", \"Bri\", \"Jarret\", \"Dylan\"]\n",
    "rand_name = random.choice(names)\n",
    "```"
   ]
  },
  {
   "cell_type": "code",
   "execution_count": null,
   "metadata": {},
   "outputs": [],
   "source": [
    "from flask import Flask\n",
    "\n",
    "\n",
    "# Create our Flask app\n",
    "app = Flask(__name__)\n",
    "\n",
    "\n",
    "# create the first route\n",
    "\n",
    "\n",
    "# create the second route\n",
    "\n",
    "\n",
    "# run the app\n",
    "app.run('0.0.0.0', 5050)"
   ]
  }
 ],
 "metadata": {
  "interpreter": {
   "hash": "4c40fc25bb696b01dcd445d466e6cb329cef8d466f3d0576415990b358d54509"
  },
  "kernelspec": {
   "display_name": "Python 3.7.13 ('venv': venv)",
   "language": "python",
   "name": "python3"
  },
  "language_info": {
   "codemirror_mode": {
    "name": "ipython",
    "version": 3
   },
   "file_extension": ".py",
   "mimetype": "text/x-python",
   "name": "python",
   "nbconvert_exporter": "python",
   "pygments_lexer": "ipython3",
   "version": "3.7.13"
  },
  "orig_nbformat": 4
 },
 "nbformat": 4,
 "nbformat_minor": 2
}
