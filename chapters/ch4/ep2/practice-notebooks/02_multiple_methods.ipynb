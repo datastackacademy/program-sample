{
 "cells": [
  {
   "cell_type": "markdown",
   "metadata": {},
   "source": [
    "## Practice Lesson: Multiple HTTP Methods\n",
    "\n",
    "By default a route responds to the GET http method. You can easily define change this behavior by passing a `method` parameter to `app.route(...)`. You can choose to respond to multiple methods at once. For example, in the app below:\n",
    "\n",
    "- `/get_time` route responds to only GET method\n",
    "- `/get_date` route responds to both GET and POST methods\n",
    "- The root or index route (`/`) only responds to the default GET method\n"
   ]
  },
  {
   "cell_type": "code",
   "execution_count": null,
   "metadata": {},
   "outputs": [],
   "source": [
    "from datetime import datetime as dt\n",
    "from flask import Flask\n",
    "\n",
    "\n",
    "# Create our Flask app\n",
    "app = Flask(__name__)\n",
    "\n",
    "\n",
    "@app.route(\"/\")\n",
    "def index():\n",
    "    \"\"\"root (or index) endpoint. says hi!\"\"\"\n",
    "    return \"hi\"\n",
    "\n",
    "\n",
    "@app.route(\"/get_time\", methods=[\"GET\"])\n",
    "def get_time():\n",
    "    \"\"\"/get_time endpoint: return the current time\"\"\"\n",
    "    curr_time = dt.now().time()\n",
    "    return str(curr_time)\n",
    "\n",
    "\n",
    "@app.route(\"/get_date\", methods=[\"GET\", \"POST\"])\n",
    "def get_date():\n",
    "    \"\"\"/get_time endpoint: return the current date\"\"\"\n",
    "    curr_date = dt.now().date()\n",
    "    return str(curr_date)\n",
    "\n",
    "\n",
    "# run the app\n",
    "app.run('0.0.0.0', 5050)"
   ]
  },
  {
   "cell_type": "markdown",
   "metadata": {},
   "source": [
    "A few things to note:\n",
    "- `methods` parameter is a list of HTTP methods. To refresh your memory, main HTTP methods are: GET, POST, PUT, DELETE\n",
    "\n",
    "\n",
    "<br/>\n",
    "\n",
    "You can see that you will get an error if you try calling an endpoint by the wrong HTTP method:"
   ]
  },
  {
   "cell_type": "code",
   "execution_count": null,
   "metadata": {
    "vscode": {
     "languageId": "shellscript"
    }
   },
   "outputs": [],
   "source": [
    "\n",
    "# run this in a bash terminal\n",
    "curl -X GET \"http://localhost:5050\"\n",
    "curl -X GET \"http://localhost:5050/get_time\"\n",
    "curl -X POST \"http://localhost:5050/get_date\"\n",
    "\n",
    "# this one throws an error since get_time doesn't support POST\n",
    "curl -X POST \"http://localhost:5050/get_time\""
   ]
  },
  {
   "cell_type": "markdown",
   "metadata": {},
   "source": [
    "### NOTE\n",
    "\n",
    "Remember to stop the notebook code cell above to stop the flask app from running. Otherwise your application will continues running and any subsequent applications would fail to bind to the same host/port."
   ]
  },
  {
   "cell_type": "markdown",
   "metadata": {},
   "source": [
    "### Exercise\n",
    "\n",
    "Using the built-in `random` module create a flask app that responds to both HTTP _GET_ and _POST_ methods with a single routes:\n",
    "- `/get_rand_name`: use `random.choice()` method to return a random name from a list of random names. Make your own list of random names.\n",
    "\n",
    "Hint:\n",
    "\n",
    "```python\n",
    "import random\n",
    "\n",
    "names = [\"Jess\", \"Bri\", \"Jarret\", \"Dylan\"]\n",
    "rand_name = random.choice(names)\n",
    "```"
   ]
  },
  {
   "cell_type": "code",
   "execution_count": null,
   "metadata": {},
   "outputs": [],
   "source": [
    "from flask import Flask\n",
    "\n",
    "\n",
    "# Create our Flask app\n",
    "app = Flask(__name__)\n",
    "\n",
    "\n",
    "# create the first route\n",
    "\n",
    "\n",
    "# run the app\n",
    "app.run('0.0.0.0', 5050)"
   ]
  }
 ],
 "metadata": {
  "interpreter": {
   "hash": "4c40fc25bb696b01dcd445d466e6cb329cef8d466f3d0576415990b358d54509"
  },
  "kernelspec": {
   "display_name": "Python 3.7.13 ('venv': venv)",
   "language": "python",
   "name": "python3"
  },
  "language_info": {
   "codemirror_mode": {
    "name": "ipython",
    "version": 3
   },
   "file_extension": ".py",
   "mimetype": "text/x-python",
   "name": "python",
   "nbconvert_exporter": "python",
   "pygments_lexer": "ipython3",
   "version": "3.7.13"
  },
  "orig_nbformat": 4
 },
 "nbformat": 4,
 "nbformat_minor": 2
}
