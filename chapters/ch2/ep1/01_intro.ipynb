{
 "cells": [
  {
   "cell_type": "markdown",
   "metadata": {},
   "source": [
    "## Working with Files (part 1) - Intro\n",
    "\n",
    "In this lesson you'll learn how to read and write to files in Python. \n",
    "\n",
    "Reading and writing to data files are one of the most fundamental skills as a data engineer. You're always working with files. Some common data engineering tasks are:\n",
    "- Reading data files\n",
    "- Checking the schema (or format) of each row\n",
    "- Parsing rows of data and ensuring key fields are present and valid\n",
    "- Transforming rows and fields to apply business logic or to validate their content with other reference sources\n",
    "- Writing the output to a database or data file formats more suited for the Cloud or Big Data tools\n",
    "\n",
    "Let's get started!"
   ]
  },
  {
   "cell_type": "markdown",
   "metadata": {},
   "source": [
    "### Simple File I/O: Speaking to the Can! \n",
    "\n",
    "In this section you'll learn to write a simple message to a data file; open it and read the message back. This is what we call _\"speaking to the can\"_ where the can is the file that you will create.\n",
    "\n",
    "Let's look at the most simple example to write a message to a file:"
   ]
  },
  {
   "cell_type": "code",
   "execution_count": 22,
   "metadata": {},
   "outputs": [],
   "source": [
    "\n",
    "with open(\"./data/can.txt\", \"w\") as myfile:\n",
    "    msg = \"Only from the heart can you touch the sky. -Rumi\"\n",
    "    myfile.write(msg)\n"
   ]
  },
  {
   "cell_type": "markdown",
   "metadata": {},
   "source": [
    "Let's digest our code:\n",
    "- The Python's built-in `open()` method allows us to open a file for reading and writing\n",
    "- This method returns a file object or commonly also called a _file handle_. We assign this file object to a variable called `myfile` in our code. You can name this object anything you like but the handle is a special object that allows you to do operation (such as read and write) to the file\n",
    "- The `open()` method takes two required positional parameters. The first parameter is the file **path** while the second parameter is the **mode** for our file operation.\n",
    "- In this example, we open the file with `w` for _write_ mode.\n",
    "- There are other common modes such as `r` for _read_ mode or `a` for _append_ mode\n",
    "- The `with` is a special Python convention commonly used when working with files. This statement allows us to write a code block (indented by a tab)\n",
    "- The file handle `.write()` method write any content to the file\n",
    "\n",
    "Simple, right?!\n",
    "\n",
    "It's important to note that the `with` statement knows to automatically close our file when the code is ended (unintended back). It's very important to always close files after you're done working withing with them. Open file handles take up operating resources. Most operating systems have a finite limit on how many open file handles they can handle; so by not closing files you will risk reaching this limit. Additionally (most) operating systems lock a file when your program is using them; meaning that no other program can work with the same file until it's closed by your program.\n",
    "\n",
    "Let's examine this:"
   ]
  },
  {
   "cell_type": "code",
   "execution_count": null,
   "metadata": {},
   "outputs": [],
   "source": [
    "with open(\"./data/can.txt\", \"w\") as myfile:\n",
    "    msg = \"Only from the heart can you touch the sky. -Rumi\"\n",
    "    myfile.write(msg)\n",
    "    # pay attention that the file is still open inside the with block\n",
    "    print(\"is file closed (inside with)? \", myfile.closed)\n",
    "\n",
    "# outside of the with block, the file is closed\n",
    "print(\"is file closed (outside with)? \", myfile.closed)\n"
   ]
  },
  {
   "cell_type": "markdown",
   "metadata": {},
   "source": [
    "Now, let's open our file back in **read** mode and read back out content:"
   ]
  },
  {
   "cell_type": "code",
   "execution_count": null,
   "metadata": {},
   "outputs": [],
   "source": [
    "with open(\"./data/can.txt\", \"r\") as myfile:\n",
    "    msg = myfile.read()\n",
    "    print(msg)"
   ]
  },
  {
   "cell_type": "markdown",
   "metadata": {},
   "source": [
    "You can see that now:\n",
    "- We open the file in `r` or _read_ mode\n",
    "- The file object `read()` method reads the entire content of the file (to the end) and returns the content\n",
    "- We assign the content to a variable called `msg` and print it\n",
    "\n",
    "**NOTE:** a few important points:\n",
    "- Opening a file in `w` mode completely over writes its previous content. If you open a file and don't write anything, then you'll end up with an empty file.\n",
    "- If you like to add content to a file then use `a` or _append_ mode\n",
    "\n",
    "\n",
    "The `read()` method without an argument reads the entire file to the end. Since the file content is read into the memory, if you read a very large file it might cause your computer to run out of memory! Therefore its better practice to read files in certain chunks. You'll see more examples later using the `readline()` method. \n",
    "\n",
    "For now, let's look at another example where we only read certain number of characters from our file and close it:"
   ]
  },
  {
   "cell_type": "code",
   "execution_count": null,
   "metadata": {},
   "outputs": [],
   "source": [
    "with open(\"./data/can.txt\", \"r\") as myfile:\n",
    "    # read 10 characters\n",
    "    msg = myfile.read(10)\n",
    "    print(f\"read: '{msg}' len={len(msg)}\")\n",
    "    # read the next 9 characters\n",
    "    msg = myfile.read(9)\n",
    "    print(f\"read: '{msg}' len={len(msg)}\")"
   ]
  },
  {
   "cell_type": "markdown",
   "metadata": {},
   "source": [
    "#### Exercise\n",
    "\n",
    "- Open a file and write another Rumi quote\n",
    "- Open the file again and read your quote"
   ]
  },
  {
   "cell_type": "code",
   "execution_count": null,
   "metadata": {},
   "outputs": [],
   "source": [
    "# open the file for writing\n",
    "\n",
    "# open the file for reading"
   ]
  },
  {
   "cell_type": "markdown",
   "metadata": {},
   "source": [
    "### File Encoding\n",
    "\n",
    "It's important to note another `open()` method parameter called `encoding`. A file encoding is how the computer encodes and decodes the text into binary format. At the end of the day everything in computers is binary. There are two very common file encoding formats called `utf-8` and `utf-16`. The _utf-8_ formatting refers to the ASCII standard 8bit encoding which covers most of latin characters. The _utf-16_ is a broader 16bit encoding which covers all other languages characters such as Farsi letters (the original language of the poet Rumi) or Chinese letters. You can refer to the [ASCII Table](https://www.asciitable.com/) to see how characters are encoded into binary numbers.\n",
    "\n",
    "Let's see this in practice:"
   ]
  },
  {
   "cell_type": "code",
   "execution_count": null,
   "metadata": {},
   "outputs": [],
   "source": [
    "with open(\"./data/can.txt\", \"w\", encoding=\"utf-8\") as myfile:\n",
    "    msg = \"Your heart knows the way. Run in that direction. -Rumi\"\n",
    "    myfile.write(msg)\n",
    "\n",
    "print(\"file is written! Now reading:\")\n",
    "with open(\"./data/can.txt\", \"r\", encoding=\"utf-8\") as myfile:\n",
    "    msg = myfile.read()\n",
    "    print(msg)"
   ]
  },
  {
   "cell_type": "markdown",
   "metadata": {},
   "source": [
    "**NOTE:** It's important to note that you should always open files in the same encoding format that they were originally written in; otherwise you'll get very funny looking characters or a `UnicodeError`. \n",
    "\n",
    "See the example below where we intentionally read/write with different encodings:"
   ]
  },
  {
   "cell_type": "code",
   "execution_count": null,
   "metadata": {},
   "outputs": [],
   "source": [
    "# !!! this code will throw a UnicodeError since we are writing and reading with different encoding types !!!\n",
    "\n",
    "with open(\"./data/can.txt\", \"w\", encoding=\"utf-16\") as myfile:\n",
    "    msg = \"Your heart knows the way. Run in that direction. -Rumi\"\n",
    "    myfile.write(msg)\n",
    "\n",
    "print(\"file is written! Now reading:\")\n",
    "with open(\"./data/can.txt\", \"r\", encoding=\"utf-8\") as myfile:\n",
    "    msg = myfile.read()\n",
    "    print(msg)"
   ]
  },
  {
   "cell_type": "markdown",
   "metadata": {},
   "source": [
    "#### Exercise\n",
    "\n",
    "- Write and read to a file 5 times. Find whatever you want to read/write!\n",
    "- Try doing special things like writing a message with endline characters: `\"this is \\n a multi line \\n text\"`"
   ]
  },
  {
   "cell_type": "code",
   "execution_count": null,
   "metadata": {},
   "outputs": [],
   "source": [
    "# write your code here"
   ]
  },
  {
   "cell_type": "markdown",
   "metadata": {},
   "source": [
    "### Resources\n",
    "\n",
    "Additional reading:\n",
    "- [Python Documentation: File I/O](https://docs.python.org/3/tutorial/inputoutput.html#tut-files)"
   ]
  }
 ],
 "metadata": {
  "interpreter": {
   "hash": "3d13d62c3386cbb294dae0923763e6371e53734bcba394bd0d1bf5d604d1c6f4"
  },
  "kernelspec": {
   "display_name": "Python 3.7.13 ('venv': venv)",
   "language": "python",
   "name": "python3"
  },
  "language_info": {
   "codemirror_mode": {
    "name": "ipython",
    "version": 3
   },
   "file_extension": ".py",
   "mimetype": "text/x-python",
   "name": "python",
   "nbconvert_exporter": "python",
   "pygments_lexer": "ipython3",
   "version": "3.7.13"
  },
  "orig_nbformat": 4
 },
 "nbformat": 4,
 "nbformat_minor": 2
}
