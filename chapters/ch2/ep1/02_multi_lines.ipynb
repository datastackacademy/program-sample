{
 "cells": [
  {
   "cell_type": "markdown",
   "metadata": {},
   "source": [
    "## Reading/Writing Multiple lines\n",
    "\n",
    "Thus far, we have been reading/writing only a single line to a file but data files often have multiple lines or _rows_ for data. In this lesson, we're going to cover the other file object methods that allow us to write with larger files.\n",
    "\n"
   ]
  },
  {
   "cell_type": "markdown",
   "metadata": {},
   "source": [
    "### Generating Random Data\n",
    "\n",
    "Before we get into reading & writing files, let's take a look at interesting pypi library called **[Faker](https://pypi.org/project/Faker/)**. This is a really handy library to generate random data. A lot of times as data engineers we need to generate random data to test our data pipelines and this library provides an extensive number of methods to generate all sort of data like people, vehicles, credit cards, and emails in multiple languages.\n",
    "\n",
    "Go ahead and install this package on your _virtual environment_. This package is already installed via the `requirements.txt` file for this lesson, don't be surprised if nothing happens:"
   ]
  },
  {
   "cell_type": "code",
   "execution_count": null,
   "metadata": {},
   "outputs": [],
   "source": [
    "%pip install Faker"
   ]
  },
  {
   "cell_type": "markdown",
   "metadata": {},
   "source": [
    "**NOTE:** \n",
    "\n",
    "In Jupyter notebooks if you start a code cell with a percentage `%` or exclamation point `!`, the code cell is as a bash terminal instead of the default python kernel."
   ]
  },
  {
   "cell_type": "markdown",
   "metadata": {},
   "source": [
    "You can read the [documentation](https://faker.readthedocs.io/en/stable/index.html) for Faker to better understand how to use this module. Here's we're going to use a simple method called `.name()` to generate some random names:"
   ]
  },
  {
   "cell_type": "code",
   "execution_count": null,
   "metadata": {},
   "outputs": [],
   "source": [
    "from faker import Faker\n",
    "\n",
    "# create a fake class\n",
    "fake = Faker()\n",
    "\n",
    "# generate 10 names\n",
    "for i in range(10):\n",
    "    name = fake.name()      # this method return a random name\n",
    "    print(name)"
   ]
  },
  {
   "cell_type": "markdown",
   "metadata": {},
   "source": [
    "Please note that:\n",
    "- We create a new `Faker()` object called `fake`\n",
    "- This object provides extensive methods to generate fake data. One of these methods is called `.name()` to return random full names\n",
    "- [Explore](https://faker.readthedocs.io/en/stable/index.html) the Faker module. There are many other methods such as `.email()` or `.phone_number()`\n",
    "- You can even set up Faker to generate names or addresses from other countries by passing the locale argument when instantiating the class: `fake = Faker(locale=['it_IT', 'en-US'])`. Read the docs! This will generate fake data for both USA and Italy."
   ]
  },
  {
   "cell_type": "markdown",
   "metadata": {},
   "source": [
    "### Writing Multiple Lines\n",
    "\n",
    "Now, let's try to write our randomly generated names into a file where each name is on a separate _row_:"
   ]
  },
  {
   "cell_type": "code",
   "execution_count": null,
   "metadata": {},
   "outputs": [],
   "source": [
    "from faker import Faker\n",
    "\n",
    "# create a fake class\n",
    "fake = Faker()\n",
    "\n",
    "# open the file as before\n",
    "with open(\"./data/names.txt\", \"w\", encoding=\"utf-16\") as output_file:\n",
    "    # loop to generate 10 names\n",
    "    for i in range(10):\n",
    "        name = fake.name()\n",
    "        content = f\"{name}\\n\"           # we must add an endline (ENTER) character to the end of our content\n",
    "        output_file.write(content)      # write the content to file\n",
    "\n",
    "print(\"done!\")"
   ]
  },
  {
   "cell_type": "markdown",
   "metadata": {},
   "source": [
    "Pay attention to some minor detail here:\n",
    "- We open our file and create a file object (or handle) called `output_file`\n",
    "- Since the `for` loop is inside our `with` block, the `.write()` method would be called 10 times resulting in writing 10 rows of names to our file\n",
    "- Most _importantly_, we add an `\\n` string literal (for ENTER) to the end of each line. You must write your own line terminators to the file. Enter or newline is commonly used as a _line terminator_ but other data formats could choose to have different terminators.\n",
    "\n",
    "<br/>\n",
    "\n",
    "It's important to see that we could also write multiple lines as once using the `writelines()` method of a file. The following code has the same results as before but now using the `writelines()` method instead:"
   ]
  },
  {
   "cell_type": "code",
   "execution_count": null,
   "metadata": {},
   "outputs": [],
   "source": [
    "\n",
    "# open the file as before\n",
    "with open(\"./data/names.txt\", \"w\", encoding=\"utf-16\") as output_file:\n",
    "    # store multiple lines into a list\n",
    "    lines = []\n",
    "    # loop to generate 10 names\n",
    "    for i in range(10):\n",
    "        name = fake.name()\n",
    "        content = f\"{name}\\n\"       # we must add an endline (ENTER) character to the end of our content\n",
    "        lines.append(content)       # append to our list of lines to write\n",
    "\n",
    "    # outside of the for loop, write all the 10 lines at once\n",
    "    output_file.writelines(lines)\n",
    "\n",
    "\n",
    "print(\"done!\")"
   ]
  },
  {
   "cell_type": "markdown",
   "metadata": {},
   "source": [
    "Open the file and examine its content. Since the data is randomly generated, you should get a different content every time you write your file."
   ]
  },
  {
   "cell_type": "markdown",
   "metadata": {},
   "source": [
    "#### Exercise\n",
    "\n",
    "- Using the [Faker module documentation](https://faker.readthedocs.io/en/stable/index.html), generate two other random pieces of information such as email or phone_number for each person. Do **NOT** use the `.address()` method since these addresses can include newline characters that separates the street_address from city, state, zip.\n",
    "- Write the name and these additional information on each line separated by a comma. For example a single like might look like this: `Clayton Stephenson,vaughnjanet@example.org,+1-150-770-2326x20019`\n",
    "- Be sure to write 30 rows\n",
    "- You can use either `.write()` or `writelines()`\n",
    "- **PLEASE** change your file name to something different"
   ]
  },
  {
   "cell_type": "code",
   "execution_count": null,
   "metadata": {},
   "outputs": [],
   "source": [
    "# make a new Faker object\n",
    "\n",
    "# open file and write 30 rows"
   ]
  },
  {
   "cell_type": "markdown",
   "metadata": {},
   "source": [
    "#### Exercise\n",
    "\n",
    "Do it again! This time you can write different lyrics of your favorite song into a file. Be sure to create a list with different lines of the song."
   ]
  },
  {
   "cell_type": "code",
   "execution_count": null,
   "metadata": {},
   "outputs": [],
   "source": [
    "# write out the lyrics for your favorite song"
   ]
  },
  {
   "cell_type": "markdown",
   "metadata": {},
   "source": [
    "### Reading Multiple Lines\n",
    "\n",
    "In this example, we're going to see how to read the same file containing our randomly generated names.\n",
    "\n",
    "Python makes reading lines from a file extremely easy. You can loop over the file object itself to read its content line by line. Think of the file object as a _collection of lines_ (or list of lines).\n",
    "\n",
    "Let's see this in action:"
   ]
  },
  {
   "cell_type": "code",
   "execution_count": null,
   "metadata": {},
   "outputs": [],
   "source": [
    "# open our file for reading\n",
    "with open(\"./data/names.txt\", \"r\", encoding=\"utf-16\") as input_file:\n",
    "    for line in input_file:\n",
    "        line = line.rstrip()\n",
    "        print(line)"
   ]
  },
  {
   "cell_type": "markdown",
   "metadata": {},
   "source": [
    "Let's digest this code quickly:\n",
    "- You can see that by looping over our file object, we read individual lines from our file\n",
    "- Python returns the line content **_including_** the terminating newline (\\n) character\n",
    "- We use the `str.rstrip()` method to remove the trailing newline character from our lines\n",
    "\n",
    "**NOTE:** The file object return the line **_including_** the terminating newline (\\n) character. To eliminate these, we can use the `str.rstrip()` method which remove trailing whitespace characters from the right of the string. \n"
   ]
  },
  {
   "cell_type": "markdown",
   "metadata": {},
   "source": [
    "#### Exercise\n",
    "\n",
    "- Read the content of `data/biggie_smalls_juicy.txt` line by line\n",
    "- Extra points: try to do some fun stuff:\n",
    "  - Count the number of lines\n",
    "  - Count the number of words (hint: use `str` built-in methods to split a line into words)\n",
    "  - Count the number of characters\n",
    "  - Print the line number where Salt-n-pepa is mentioned"
   ]
  },
  {
   "cell_type": "code",
   "execution_count": null,
   "metadata": {},
   "outputs": [],
   "source": [
    "# your code here\n"
   ]
  },
  {
   "cell_type": "markdown",
   "metadata": {},
   "source": [
    "#### Exercise\n",
    "\n",
    "- Read the content of `data/queen_latifah_ladies_first.txt` line by line\n",
    "- Do fun stuff:\n",
    "  - Count the number of times the word _\"ladies\"_ is mentioned (capitalized or not)\n",
    "  - Count the number of lines"
   ]
  },
  {
   "cell_type": "code",
   "execution_count": null,
   "metadata": {},
   "outputs": [],
   "source": [
    "# your code here\n"
   ]
  },
  {
   "cell_type": "markdown",
   "metadata": {},
   "source": [
    "<br/>\n",
    "\n",
    "#### Alternatively: Using the `readline()` method\n",
    "\n",
    "It's important to note that you can also use the file object `readline()` or `readlines()` to read lines from a file. \n",
    "\n",
    "Let's see both these in action:"
   ]
  },
  {
   "cell_type": "code",
   "execution_count": null,
   "metadata": {},
   "outputs": [],
   "source": [
    "# open our file for reading\n",
    "with open(\"./data/names.txt\", \"r\", encoding=\"utf-16\") as input_file:\n",
    "    line = input_file.readline()            # read the first line\n",
    "    line_number = 1                         # keep track of line numbers\n",
    "    while line:\n",
    "        line = line.rstrip()                # drop the trailing newline\n",
    "        print(f\"{line_number}: {line}\")\n",
    "        line = input_file.readline()        # read the next line\n",
    "        line_number += 1                    # incr. line number\n"
   ]
  },
  {
   "cell_type": "markdown",
   "metadata": {},
   "source": [
    "Let's take a closer look at our code:\n",
    "- In this example, we use the `while` loop to read our file\n",
    "- The `readline()` method returns an empty string when it reaches the end of the file. This allows us to check for empty string in our `while` condition. Remember, empty strings in Python always evaluate to the boolean value `False`\n",
    "- The rest is simple, we continue reading the next line until we encounter the end."
   ]
  },
  {
   "cell_type": "markdown",
   "metadata": {},
   "source": [
    "#### Exercise\n",
    "\n",
    "- Read back the same file that you generated earlier with multiple random fields per person\n",
    "- Split your lines by `,` to get back the original fields"
   ]
  },
  {
   "cell_type": "code",
   "execution_count": null,
   "metadata": {},
   "outputs": [],
   "source": [
    "# enter your code here"
   ]
  }
 ],
 "metadata": {
  "interpreter": {
   "hash": "3c7afee05a0d91b5827be8a2eee1792089ac29f546b3798f23f5543c31820396"
  },
  "kernelspec": {
   "display_name": "Python 3.7.13 ('venv': venv)",
   "language": "python",
   "name": "python3"
  },
  "language_info": {
   "codemirror_mode": {
    "name": "ipython",
    "version": 3
   },
   "file_extension": ".py",
   "mimetype": "text/x-python",
   "name": "python",
   "nbconvert_exporter": "python",
   "pygments_lexer": "ipython3",
   "version": "3.7.13"
  },
  "orig_nbformat": 4
 },
 "nbformat": 4,
 "nbformat_minor": 2
}
